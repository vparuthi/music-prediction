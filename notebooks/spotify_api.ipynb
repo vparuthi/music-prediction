{
 "cells": [
  {
   "cell_type": "code",
   "execution_count": 4,
   "metadata": {},
   "outputs": [],
   "source": [
    "import configparser\n",
    "import spotipy\n",
    "from spotipy.oauth2 import SpotifyClientCredentials\n"
   ]
  },
  {
   "cell_type": "code",
   "execution_count": 34,
   "metadata": {},
   "outputs": [],
   "source": [
    "config = configparser.ConfigParser()\n",
    "config.read('../config.ini')\n",
    "spotify_api_keys = config['spotify api']\n",
    "\n",
    "client_credentials_manager = SpotifyClientCredentials(client_id=spotify_api_keys['SPOTIFY_WEB_API_CLIENT_ID'],\n",
    "                                                      client_secret=spotify_api_keys['SPOTIFY_WEB_API_CLIENT_SECRET'])\n",
    "sp = spotipy.Spotify(client_credentials_manager=client_credentials_manager)\n",
    "\n",
    "spotify_api_results = sp.search(q='hip hop', type='playlist', limit=6)\n",
    "spotify_api_results.get('playlists').get('items')\n"
   ]
  },
  {
   "cell_type": "code",
   "execution_count": 41,
   "metadata": {
    "scrolled": false
   },
   "outputs": [
    {
     "data": {
      "text/plain": [
       "{'collaborative': False,\n",
       " 'external_urls': {'spotify': 'https://open.spotify.com/playlist/37i9dQZF1DWY6tYEFs22tT'},\n",
       " 'href': 'https://api.spotify.com/v1/playlists/37i9dQZF1DWY6tYEFs22tT',\n",
       " 'id': '37i9dQZF1DWY6tYEFs22tT',\n",
       " 'images': [{'height': None,\n",
       "   'url': 'https://pl.scdn.co/images/pl/default/46ee7f51c7f29c7fd9aafdc2ac76c4eb0323bbb9',\n",
       "   'width': None}],\n",
       " 'name': 'Hip-Hop Central',\n",
       " 'owner': {'display_name': 'Spotify',\n",
       "  'external_urls': {'spotify': 'https://open.spotify.com/user/spotify'},\n",
       "  'href': 'https://api.spotify.com/v1/users/spotify',\n",
       "  'id': 'spotify',\n",
       "  'type': 'user',\n",
       "  'uri': 'spotify:user:spotify'},\n",
       " 'primary_color': None,\n",
       " 'public': None,\n",
       " 'snapshot_id': 'MTU2NTEyMjUxOSwwMDAwMDIzMjAwMDAwMTZjNjg5MjYxMWMwMDAwMDE2YzUwYjIwMzRl',\n",
       " 'tracks': {'href': 'https://api.spotify.com/v1/playlists/37i9dQZF1DWY6tYEFs22tT/tracks',\n",
       "  'total': 79},\n",
       " 'type': 'playlist',\n",
       " 'uri': 'spotify:playlist:37i9dQZF1DWY6tYEFs22tT'}"
      ]
     },
     "execution_count": 41,
     "metadata": {},
     "output_type": "execute_result"
    }
   ],
   "source": [
    "spotify_api_results.get('playlists').get('items')[0]"
   ]
  }
 ],
 "metadata": {
  "kernelspec": {
   "display_name": "Python 3",
   "language": "python",
   "name": "python3"
  },
  "language_info": {
   "codemirror_mode": {
    "name": "ipython",
    "version": 3
   },
   "file_extension": ".py",
   "mimetype": "text/x-python",
   "name": "python",
   "nbconvert_exporter": "python",
   "pygments_lexer": "ipython3",
   "version": "3.7.3"
  }
 },
 "nbformat": 4,
 "nbformat_minor": 2
}
