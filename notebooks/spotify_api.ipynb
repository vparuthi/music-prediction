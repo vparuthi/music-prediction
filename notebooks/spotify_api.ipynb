{
 "cells": [
  {
   "cell_type": "code",
   "execution_count": 3,
   "metadata": {},
   "outputs": [],
   "source": [
    "import configparser\n",
    "import spotipy\n",
    "from spotipy.oauth2 import SpotifyClientCredentials\n"
   ]
  },
  {
   "cell_type": "code",
   "execution_count": 10,
   "metadata": {},
   "outputs": [
    {
     "data": {
      "text/plain": [
       "[{'height': 640,\n",
       "  'url': 'https://mosaic.scdn.co/640/a9e06e9241decb2b7336064a7cfa29a66e74c2e6b9bd225d69141727e50bc769f63d43c17ea3cf95cb1e3828a1e8b7156ef6cfc027c68cafff904323cd09b8b2c80f59a4159c2a34e1ec8ed0b18ee2d6',\n",
       "  'width': 640},\n",
       " {'height': 300,\n",
       "  'url': 'https://mosaic.scdn.co/300/a9e06e9241decb2b7336064a7cfa29a66e74c2e6b9bd225d69141727e50bc769f63d43c17ea3cf95cb1e3828a1e8b7156ef6cfc027c68cafff904323cd09b8b2c80f59a4159c2a34e1ec8ed0b18ee2d6',\n",
       "  'width': 300},\n",
       " {'height': 60,\n",
       "  'url': 'https://mosaic.scdn.co/60/a9e06e9241decb2b7336064a7cfa29a66e74c2e6b9bd225d69141727e50bc769f63d43c17ea3cf95cb1e3828a1e8b7156ef6cfc027c68cafff904323cd09b8b2c80f59a4159c2a34e1ec8ed0b18ee2d6',\n",
       "  'width': 60}]"
      ]
     },
     "execution_count": 10,
     "metadata": {},
     "output_type": "execute_result"
    }
   ],
   "source": [
    "config = configparser.ConfigParser()\n",
    "config.read('../config.ini')\n",
    "spotify_api_keys = config['spotify api']\n",
    "\n",
    "client_credentials_manager = SpotifyClientCredentials(client_id=spotify_api_keys['CLIENT_ID'],\n",
    "                                                      client_secret=spotify_api_keys['CLIENT_SECRET'])\n",
    "sp = spotipy.Spotify(client_credentials_manager=client_credentials_manager)\n",
    "\n",
    "spotify_api_results = sp.search(q='Metal Or Hardrock', type='playlist', limit=6)\n",
    "spotify_api_results.get('playlists').get('items')[0].get('images')\n"
   ]
  },
  {
   "cell_type": "code",
   "execution_count": 8,
   "metadata": {
    "scrolled": false
   },
   "outputs": [
    {
     "data": {
      "text/plain": [
       "{'collaborative': False,\n",
       " 'external_urls': {'spotify': 'https://open.spotify.com/playlist/71eD9g0zUjifb9L5oNxkLH'},\n",
       " 'href': 'https://api.spotify.com/v1/playlists/71eD9g0zUjifb9L5oNxkLH',\n",
       " 'id': '71eD9g0zUjifb9L5oNxkLH',\n",
       " 'images': [{'height': None,\n",
       "   'url': 'https://pl.scdn.co/images/pl/default/92fb0c086c3b1c61e092aeaff38506bf3c30e420',\n",
       "   'width': None}],\n",
       " 'name': '📀 24k HiFi & 🎧 test - big spectrum | all genre',\n",
       " 'owner': {'display_name': '21qnbol44k6gsrvkari6w3lbi',\n",
       "  'external_urls': {'spotify': 'https://open.spotify.com/user/21qnbol44k6gsrvkari6w3lbi'},\n",
       "  'href': 'https://api.spotify.com/v1/users/21qnbol44k6gsrvkari6w3lbi',\n",
       "  'id': '21qnbol44k6gsrvkari6w3lbi',\n",
       "  'type': 'user',\n",
       "  'uri': 'spotify:user:21qnbol44k6gsrvkari6w3lbi'},\n",
       " 'primary_color': None,\n",
       " 'public': None,\n",
       " 'snapshot_id': 'MTM2NSw3NzBlMDc4ZjlmZTUzMmViMDk5OGM4ZjkxYmM4M2Q5OTE4MzlkNzVi',\n",
       " 'tracks': {'href': 'https://api.spotify.com/v1/playlists/71eD9g0zUjifb9L5oNxkLH/tracks',\n",
       "  'total': 209},\n",
       " 'type': 'playlist',\n",
       " 'uri': 'spotify:playlist:71eD9g0zUjifb9L5oNxkLH'}"
      ]
     },
     "execution_count": 8,
     "metadata": {},
     "output_type": "execute_result"
    }
   ],
   "source": [
    "spotify_api_results.get('playlists').get('items')[0]"
   ]
  },
  {
   "cell_type": "code",
   "execution_count": null,
   "metadata": {},
   "outputs": [],
   "source": []
  }
 ],
 "metadata": {
  "kernelspec": {
   "display_name": "Python 3",
   "language": "python",
   "name": "python3"
  },
  "language_info": {
   "codemirror_mode": {
    "name": "ipython",
    "version": 3
   },
   "file_extension": ".py",
   "mimetype": "text/x-python",
   "name": "python",
   "nbconvert_exporter": "python",
   "pygments_lexer": "ipython3",
   "version": "3.7.3"
  }
 },
 "nbformat": 4,
 "nbformat_minor": 2
}
