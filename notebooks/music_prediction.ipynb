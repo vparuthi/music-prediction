{
 "cells": [
  {
   "cell_type": "code",
   "execution_count": null,
   "metadata": {},
   "outputs": [],
   "source": [
    "import pandas as pd \n",
    "import numpy as np \n",
    "from sklearn.model_selection import train_test_split\n",
    "from sklearn.metrics import accuracy_score\n",
    "from skmultilearn.adapt import MLkNN\n",
    "from sklearn.model_selection import GridSearchCV\n",
    "import seaborn as sns\n",
    "import matplotlib.pyplot as plt\n",
    "import statistics \n",
    "import scipy\n",
    "from itertools import combinations \n",
    "\n",
    "\n",
    "MUSIC_CHOICES = ['classical music', 'pop', 'metal or hardrock', 'hiphop, rap', 'latino', 'alternative']"
   ]
  },
  {
   "cell_type": "code",
   "execution_count": null,
   "metadata": {},
   "outputs": [],
   "source": [
    "%cd .."
   ]
  },
  {
   "cell_type": "code",
   "execution_count": null,
   "metadata": {},
   "outputs": [],
   "source": [
    "raw_data = pd.read_csv('./resources/responses.csv')\n",
    "raw_data.fillna(0, inplace=True)\n",
    "raw_data.columns = [col.lower() for col in raw_data.columns]"
   ]
  },
  {
   "cell_type": "code",
   "execution_count": null,
   "metadata": {},
   "outputs": [],
   "source": [
    "def only_strong_correlations(x):\n",
    "    if abs(x) < 0.1: return 0\n",
    "    return x\n",
    "\n",
    "def convert_to_binary(col):\n",
    "    \"\"\"\n",
    "    Given a two value categorical series, it is converted to its binary representation\n",
    "    \n",
    "    :param Series col: two value categorical series\n",
    "    \n",
    "    :return: a binary series\n",
    "    \"\"\"\n",
    "    \n",
    "    unique_val = col.unique()[0]\n",
    "    copy = col.copy()\n",
    "    for index, row in enumerate(copy):\n",
    "        if row == unique_val:\n",
    "            copy[index] = 0\n",
    "        else:\n",
    "            copy[index] = 1\n",
    "    return copy\n"
   ]
  },
  {
   "cell_type": "code",
   "execution_count": null,
   "metadata": {
    "scrolled": true
   },
   "outputs": [],
   "source": [
    "# getting all the categorical columns \n",
    "categorical_data = raw_data[list(set(raw_data.columns) - set(raw_data._get_numeric_data().columns))]\n",
    "categorical_data.drop(['gender'], axis=1, inplace=True)"
   ]
  },
  {
   "cell_type": "code",
   "execution_count": null,
   "metadata": {},
   "outputs": [],
   "source": [
    "# converting the binary categorical columns to 0s and 1s\n",
    "# this is done to avoid linerly dependent columns \n",
    "binary_data = categorical_data[['left - right handed', 'only child']]\n",
    "for col in binary_data:\n",
    "    categorical_data.loc[:, col] = convert_to_binary(binary_data.loc[:, col])"
   ]
  },
  {
   "cell_type": "code",
   "execution_count": null,
   "metadata": {
    "scrolled": true
   },
   "outputs": [],
   "source": [
    "# one hot encoding \n",
    "categorical_data = pd.get_dummies(categorical_data, prefix_sep='_', drop_first=True)\n"
   ]
  },
  {
   "cell_type": "code",
   "execution_count": null,
   "metadata": {},
   "outputs": [],
   "source": [
    "def generate_heatmap(df, music_choices=MUSIC_CHOICES, threshold=0.04, apply_map=True):\n",
    "    \"\"\"\n",
    "    Given a dataframe a heatmap is returned with only values above the \n",
    "    threhold being displayed\n",
    "    \n",
    "    :param DataFrame df: A numerical dataframe\n",
    "    :param list music_choices: The genres of music that one would like displayed\n",
    "    :param float threshold: The average value required for a row to be displayed\n",
    "    \n",
    "    :return: a sns heatmap\n",
    "    \"\"\"\n",
    "    # corr is a square correlation matrix (n * n), where n is the number of featuress\n",
    "    if apply_map:\n",
    "        # only_corrleations() makes cell values 0 if their correlation is less than 0.1\n",
    "        df = df._get_numeric_data().corr().applymap(only_strong_correlations)\n",
    "    else:\n",
    "        df = df._get_numeric_data().corr()\n",
    "        \n",
    "    # picking only the music columns \n",
    "    df = df[music_choices]\n",
    "    # excluding all music rows \n",
    "    df = df.loc[set(df.index) - set(music_choices)]\n",
    "\n",
    "    # only rows above a certain threshold are kept\n",
    "    # 0.04 was chosen as the threshold since it \n",
    "    # is slightly higher than the avg of the row avgs, which was 0.039\n",
    "\n",
    "    # avg is the average of all the rows \n",
    "    avg = 0\n",
    "    inital_len = len(df)\n",
    "    for index, row in df.iterrows():\n",
    "        add = 0\n",
    "        for col in row: \n",
    "            add += abs(col)\n",
    "        avg += add/len(row)\n",
    "        if add/len(row) < threshold:\n",
    "            df.drop(index, axis=0, inplace=True)\n",
    "    print(avg/inital_len)\n",
    "    \n",
    "    plt.figure(figsize=(25,20))\n",
    "    return sns.heatmap(df, cmap= sns.color_palette(\"RdBu_r\", 7), annot=True, linewidth=0.5)\n"
   ]
  },
  {
   "cell_type": "code",
   "execution_count": null,
   "metadata": {
    "scrolled": true
   },
   "outputs": [],
   "source": [
    "music_data = raw_data[MUSIC_CHOICES]"
   ]
  },
  {
   "cell_type": "code",
   "execution_count": null,
   "metadata": {},
   "outputs": [],
   "source": [
    "# generate_heatmap(music_data.join(categorical_data), threshold=0.04, apply_map=False)"
   ]
  },
  {
   "cell_type": "code",
   "execution_count": null,
   "metadata": {
    "scrolled": true
   },
   "outputs": [],
   "source": [
    "questions = []\n",
    "for line in open('./resources/correlations.txt'):\n",
    "    questions.append(line.lower().rstrip())\n",
    "question_data = raw_data[questions]\n",
    "print(len(questions))\n",
    "# gender is binary so we convert that prior to OHE (One Hot Encoding)\n",
    "question_data.loc[:,['gender']] = convert_to_binary(question_data['gender'])\n",
    "question_data = pd.get_dummies(question_data, drop_first=True).astype(int)"
   ]
  },
  {
   "cell_type": "code",
   "execution_count": null,
   "metadata": {},
   "outputs": [],
   "source": [
    "def create_model(question_data, music_data):\n",
    "    parameters = {'k': range(2,30,2), 's': [0.5, 0.7, 1.0]}\n",
    "    score = 'f1_micro'   \n",
    "    \n",
    "    X_train, X_test, y_train, y_test = train_test_split(question_data, music_data, test_size=0.20, random_state=42)\n",
    "    \n",
    "    clf = GridSearchCV(MLkNN(), parameters, scoring=score, n_jobs=-1)\n",
    "    clf.fit(question_data, scipy.sparse.csr_matrix(music_data.values))\n",
    "    return clf.best_params_, clf.best_score_"
   ]
  },
  {
   "cell_type": "code",
   "execution_count": null,
   "metadata": {},
   "outputs": [],
   "source": [
    "best_score = 0\n",
    "best_params = None\n",
    "for index, comb in enumerate(list(combinations(question_data.columns, 10))):\n",
    "    params, score = create_model(question_data[list(comb)], music_data)\n",
    "    if score > best_score:\n",
    "        best_score = score\n",
    "        best_params = params\n",
    "    print(index)"
   ]
  },
  {
   "cell_type": "code",
   "execution_count": null,
   "metadata": {
    "scrolled": false
   },
   "outputs": [],
   "source": [
    "\n",
    "\n",
    "clf = MLkNN(k=2, s=0.5)\n",
    "clf.fit(data, scipy.sparse.csr_matrix(music.values))\n",
    "predictions = clf.predict(X_test)\n",
    "accuracy_score(y_test, predictions)"
   ]
  },
  {
   "cell_type": "code",
   "execution_count": null,
   "metadata": {},
   "outputs": [],
   "source": [
    "music.head()"
   ]
  },
  {
   "cell_type": "code",
   "execution_count": null,
   "metadata": {
    "scrolled": false
   },
   "outputs": [],
   "source": [
    "data.head()"
   ]
  },
  {
   "cell_type": "code",
   "execution_count": null,
   "metadata": {},
   "outputs": [],
   "source": [
    "print(clf.predict(np.asarray([[2,3,4,3,0,4,2,20,1]])))"
   ]
  }
 ],
 "metadata": {
  "kernelspec": {
   "display_name": "Python 3",
   "language": "python",
   "name": "python3"
  },
  "language_info": {
   "codemirror_mode": {
    "name": "ipython",
    "version": 3
   },
   "file_extension": ".py",
   "mimetype": "text/x-python",
   "name": "python",
   "nbconvert_exporter": "python",
   "pygments_lexer": "ipython3",
   "version": "3.7.3"
  }
 },
 "nbformat": 4,
 "nbformat_minor": 2
}
