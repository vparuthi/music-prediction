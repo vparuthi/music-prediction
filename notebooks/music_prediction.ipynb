{
 "cells": [
  {
   "cell_type": "code",
   "execution_count": null,
   "metadata": {},
   "outputs": [],
   "source": [
    "import pandas as pd \n",
    "import numpy as np \n",
    "from sklearn.model_selection import train_test_split\n",
    "from sklearn.metrics import accuracy_score\n",
    "from skmultilearn.problem_transform import ClassifierChain\n",
    "from sklearn.linear_model import LogisticRegression\n",
    "from skmultilearn.problem_transform import LabelPowerset\n",
    "from sklearn.preprocessing import LabelEncoder\n",
    "from sklearn.preprocessing import OneHotEncoder\n",
    "import seaborn as sns\n",
    "import matplotlib.pyplot as plt\n",
    "\n",
    "MUSIC_CHOICES = ['Classical music', 'Pop', 'Metal or Hardrock', 'Hiphop, Rap', 'Latino', 'Alternative', 'Rock']"
   ]
  },
  {
   "cell_type": "code",
   "execution_count": null,
   "metadata": {},
   "outputs": [],
   "source": [
    "%cd .."
   ]
  },
  {
   "cell_type": "code",
   "execution_count": null,
   "metadata": {},
   "outputs": [],
   "source": [
    "raw_data = pd.read_csv('./resources/responses.csv')\n",
    "raw_data.fillna(0, inplace=True)"
   ]
  },
  {
   "cell_type": "code",
   "execution_count": null,
   "metadata": {},
   "outputs": [],
   "source": [
    "def only_correlations(x):\n",
    "    if abs(x) < 0.1: return 0\n",
    "    return x"
   ]
  },
  {
   "cell_type": "code",
   "execution_count": null,
   "metadata": {},
   "outputs": [],
   "source": [
    "raw_data.describe().iloc[:,:19]"
   ]
  },
  {
   "cell_type": "code",
   "execution_count": null,
   "metadata": {
    "scrolled": false
   },
   "outputs": [],
   "source": [
    "# getting all the categorical columns \n",
    "categorical_data = raw_data[list(set(raw_data.columns) - set(raw_data._get_numeric_data().columns))]"
   ]
  },
  {
   "cell_type": "code",
   "execution_count": null,
   "metadata": {},
   "outputs": [],
   "source": [
    "label_encoder = LabelEncoder()\n",
    "\n",
    "# integer encode\n",
    "int_encoded = label_encoder.fit_transform(categorical_data)\n",
    "print"
   ]
  },
  {
   "cell_type": "code",
   "execution_count": null,
   "metadata": {},
   "outputs": [],
   "source": [
    "# only_corrleations() makes cell values 0 if their correlation is less than 0.1\n",
    "# corr is a square correlation matrix (n * n), where n is the number of featuress\n",
    "corr = raw_data._get_numeric_data().corr().applymap(only_correlations)\n",
    "\n",
    "# picking only the music columns \n",
    "corr = corr[MUSIC_CHOICES]\n",
    "# excluding all music rows \n",
    "corr = corr.iloc[19:,:]\n",
    "\n",
    "\n",
    "# only rows above a certain threshold are kept\n",
    "# 0.04 was chosen as the threshold since it \n",
    "# is slightly higher than the avg of the row avgs, which was 0.039\n",
    "\n",
    "# avg is the average of all the rows \n",
    "avg = 0\n",
    "\n",
    "for index, row in corr.iterrows():\n",
    "    add = 0\n",
    "    for col in row: \n",
    "        add += abs(col)\n",
    "    avg += add/len(row)\n",
    "    \n",
    "    if add/len(row) < 0.04:\n",
    "        corr.drop(index, axis=0, inplace=True)\n",
    "print(avg/len(corr))\n",
    "# corr = corr.iloc[11:,:]"
   ]
  },
  {
   "cell_type": "code",
   "execution_count": null,
   "metadata": {},
   "outputs": [],
   "source": [
    "plt.figure(figsize=(25,20))\n",
    "sns.heatmap(corr, cmap= sns.color_palette(\"RdBu_r\", 7), annot=True, linewidth=0.5)\n"
   ]
  },
  {
   "cell_type": "code",
   "execution_count": null,
   "metadata": {},
   "outputs": [],
   "source": [
    "music = raw_data.iloc[:,:19]\n",
    "music = music[['Classical music', 'Pop', 'Metal or Hardrock','Rock n roll', 'Hiphop, Rap', 'Alternative', 'Latino']].astype(int)\n",
    "movie = raw_data.iloc[:,19:31].astype(int)\n",
    "hobbies = raw_data.iloc[:,31:63].astype(int)\n",
    "phobias = raw_data.iloc[:,63:73].astype(int)\n",
    "health = pd.get_dummies(raw_data.iloc[:,73:76],drop_first=True).astype(int)\n",
    "traits = pd.get_dummies(raw_data.iloc[:,76:133],drop_first=True).astype(int)\n",
    "habits = pd.get_dummies(raw_data.iloc[:,133:120],drop_first=True).astype(int)\n"
   ]
  },
  {
   "cell_type": "code",
   "execution_count": null,
   "metadata": {
    "scrolled": true
   },
   "outputs": [],
   "source": [
    "music.describe()"
   ]
  },
  {
   "cell_type": "code",
   "execution_count": null,
   "metadata": {},
   "outputs": [],
   "source": [
    "raw_data.iloc[:,19:]"
   ]
  },
  {
   "cell_type": "code",
   "execution_count": null,
   "metadata": {},
   "outputs": [],
   "source": [
    "raw_data.iloc[:,]"
   ]
  },
  {
   "cell_type": "code",
   "execution_count": null,
   "metadata": {},
   "outputs": [],
   "source": [
    "questions = raw_data[['Criminal damage', 'Adrenaline sports', 'Passive sport', 'Waiting', 'Eating to survive', 'Friends versus money', 'Cheating in school']].astype(int)\n",
    "\n"
   ]
  },
  {
   "cell_type": "code",
   "execution_count": null,
   "metadata": {},
   "outputs": [],
   "source": [
    "general = raw_data[['Age', 'Gender']]\n",
    "general['Gender'] = general['Gender'].apply(lambda row: 0 if row == 'female' else 1)\n",
    "general = general.astype(int)"
   ]
  },
  {
   "cell_type": "code",
   "execution_count": null,
   "metadata": {},
   "outputs": [],
   "source": []
  },
  {
   "cell_type": "code",
   "execution_count": null,
   "metadata": {},
   "outputs": [],
   "source": [
    "music = raw_data[['Country', 'Classical music', 'Pop', 'Rock', 'Hiphop, Rap', 'Alternative', 'Loneliness', 'God']].astype(int)\n",
    "for col in music:\n",
    "    median = music[col].median()\n",
    "    music[col] = music[col].apply(lambda row: 1 if row > median else 0)\n",
    "data = questions.join(general)"
   ]
  },
  {
   "cell_type": "code",
   "execution_count": null,
   "metadata": {},
   "outputs": [],
   "source": [
    "\n",
    "X_train, X_test, y_train, y_test = train_test_split(data, music, test_size=0.33, random_state=42)"
   ]
  },
  {
   "cell_type": "code",
   "execution_count": null,
   "metadata": {
    "scrolled": true
   },
   "outputs": [],
   "source": [
    "X_train"
   ]
  },
  {
   "cell_type": "code",
   "execution_count": null,
   "metadata": {},
   "outputs": [],
   "source": [
    "import scipy\n",
    "print(scipy.sparse.csr_matrix(y_train.values).shape)\n"
   ]
  },
  {
   "cell_type": "code",
   "execution_count": null,
   "metadata": {},
   "outputs": [],
   "source": [
    "np.asarray(data)"
   ]
  },
  {
   "cell_type": "code",
   "execution_count": null,
   "metadata": {},
   "outputs": [],
   "source": [
    "from skmultilearn.adapt import MLkNN\n",
    "from sklearn.model_selection import GridSearchCV\n",
    "\n",
    "\n",
    "parameters = {'k': range(2,30,2), 's': [0.5, 0.7, 1.0]}\n",
    "score = 'f1_micro'"
   ]
  },
  {
   "cell_type": "code",
   "execution_count": null,
   "metadata": {
    "scrolled": false
   },
   "outputs": [],
   "source": [
    "\n",
    "\n",
    "# clf = GridSearchCV(MLkNN(), parameters, scoring=score, n_jobs=-1)\n",
    "# clf.fit(data, scipy.sparse.csr_matrix(music.values))\n",
    "# print(clf.best_params_, clf.best_score_)\n",
    "\n",
    "clf = MLkNN(k=2, s=0.5)\n",
    "clf.fit(data, scipy.sparse.csr_matrix(music.values))\n",
    "predictions = clf.predict(X_test)\n",
    "accuracy_score(y_test, predictions)"
   ]
  },
  {
   "cell_type": "code",
   "execution_count": null,
   "metadata": {},
   "outputs": [],
   "source": [
    "music.head()"
   ]
  },
  {
   "cell_type": "code",
   "execution_count": null,
   "metadata": {
    "scrolled": false
   },
   "outputs": [],
   "source": [
    "data.head()"
   ]
  },
  {
   "cell_type": "code",
   "execution_count": null,
   "metadata": {},
   "outputs": [],
   "source": [
    "print(clf.predict(np.asarray([[2,3,4,3,0,4,2,20,1]])))"
   ]
  },
  {
   "cell_type": "code",
   "execution_count": null,
   "metadata": {},
   "outputs": [],
   "source": [
    "def train_clfs(X_train, y_train, X_test, y_test):\n",
    "    clfs = {\n",
    "        \"Knn\": KNeighborsClassifier(n_neighbors=10),\n",
    "        \"RandomForest\":RandomForestClassifier(n_estimators=50),\n",
    "        \"ID3\" : DecisionTreeClassifier(criterion='entropy'),\n",
    "        \"CART\" : DecisionTreeClassifier()\n",
    "    }\n",
    "    \n",
    "    for clf_name in clfs:\n",
    "        clf = clfs[clf_name]\n",
    "        clf = clf.fit(X_train, y_train)\n",
    "        predicted = clf.predict(X_test)\n",
    "        print (i,\" Accuracy Score: \",accuracy_score(y_test, predicted))"
   ]
  },
  {
   "cell_type": "code",
   "execution_count": null,
   "metadata": {},
   "outputs": [],
   "source": [
    "train_clfs(X_train, X_test, y_train, y_test)"
   ]
  }
 ],
 "metadata": {
  "kernelspec": {
   "display_name": "Python 3",
   "language": "python",
   "name": "python3"
  },
  "language_info": {
   "codemirror_mode": {
    "name": "ipython",
    "version": 3
   },
   "file_extension": ".py",
   "mimetype": "text/x-python",
   "name": "python",
   "nbconvert_exporter": "python",
   "pygments_lexer": "ipython3",
   "version": "3.7.3"
  }
 },
 "nbformat": 4,
 "nbformat_minor": 2
}
